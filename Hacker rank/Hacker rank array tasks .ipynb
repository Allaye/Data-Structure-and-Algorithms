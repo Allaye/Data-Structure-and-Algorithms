{
 "cells": [
  {
   "cell_type": "code",
   "execution_count": 33,
   "metadata": {},
   "outputs": [
    {
     "name": "stdout",
     "output_type": "stream",
     "text": [
      "102\n",
      "171\n",
      "172\n",
      "166\n"
     ]
    }
   ],
   "source": [
    "for i in range(len(a)):\n",
    "    maxSum = -63\n",
    "    for j in range(len(a[i])):\n",
    "        top = sum(a[i][j:j+3])\n",
    "        mid = a[i+1][j+1]\n",
    "        low = sum(a[i+2][j:j+3])\n",
    "        \n",
    "        hourglass = top + mid + low\n",
    "        if hourglass > maxSum:\n",
    "            maxSum = hourglass\n",
    "    print(maxSum)"
   ]
  },
  {
   "cell_type": "code",
   "execution_count": 16,
   "metadata": {},
   "outputs": [],
   "source": [
    "\n",
    "def shiftN(n, arr):\n",
    "    array = [None] * len(arr)\n",
    "    for ind, value in enumerate(arr):\n",
    "        index = ind - n\n",
    "        array[index] = value\n",
    "    return array"
   ]
  },
  {
   "cell_type": "code",
   "execution_count": 18,
   "metadata": {},
   "outputs": [
    {
     "data": {
      "text/plain": [
       "[45, 1, 23, 4, 5, 7]"
      ]
     },
     "execution_count": 18,
     "metadata": {},
     "output_type": "execute_result"
    }
   ],
   "source": [
    "shiftN(5, [1,23,4,5,7,45])"
   ]
  },
  {
   "cell_type": "code",
   "execution_count": 19,
   "metadata": {},
   "outputs": [],
   "source": [
    "input_string = ['asa', 'vdd', 'eeee', 'aaa', 'asa', 'vdd', 'asa']\n",
    "query_string = ['aaa', 'asa', 'vdd']\n",
    "\n",
    "count = []\n",
    "for i in query_string:\n",
    "    count.append(input_string.count(i))\n",
    "    "
   ]
  },
  {
   "cell_type": "code",
   "execution_count": 20,
   "metadata": {},
   "outputs": [
    {
     "data": {
      "text/plain": [
       "[1, 3, 2]"
      ]
     },
     "execution_count": 20,
     "metadata": {},
     "output_type": "execute_result"
    }
   ],
   "source": [
    "count"
   ]
  },
  {
   "cell_type": "code",
   "execution_count": null,
   "metadata": {},
   "outputs": [],
   "source": []
  }
 ],
 "metadata": {
  "kernelspec": {
   "display_name": "Training",
   "language": "python",
   "name": "training"
  },
  "language_info": {
   "codemirror_mode": {
    "name": "ipython",
    "version": 3
   },
   "file_extension": ".py",
   "mimetype": "text/x-python",
   "name": "python",
   "nbconvert_exporter": "python",
   "pygments_lexer": "ipython3",
   "version": "3.8.1"
  }
 },
 "nbformat": 4,
 "nbformat_minor": 4
}
