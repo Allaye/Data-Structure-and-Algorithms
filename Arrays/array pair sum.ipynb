{
 "cells": [
  {
   "cell_type": "code",
   "execution_count": 98,
   "metadata": {},
   "outputs": [],
   "source": [
    "def pair_sum(arr, summation):\n",
    "    '''\n",
    "    given an integer array, sum up the specific pair that add up to summation, only unique pair\n",
    "    '''\n",
    "    # edge case check\n",
    "    if len(arr) <2:\n",
    "        print('No pair sum found!')\n",
    "        return \n",
    "    array_pair = []\n",
    "    arr = list(set(arr))\n",
    "    for i in range(0, len(arr)):\n",
    "        for j in arr[i:]:\n",
    "            if arr[i]+j == summation:\n",
    "                array_pair.append([i,j])\n",
    "    print(f'Total pair sum is {len(array_pair)}')\n",
    "    return array_pair"
   ]
  },
  {
   "cell_type": "code",
   "execution_count": 100,
   "metadata": {},
   "outputs": [
    {
     "name": "stdout",
     "output_type": "stream",
     "text": [
      "Total pair sum is 0\n"
     ]
    },
    {
     "data": {
      "text/plain": [
       "[]"
      ]
     },
     "execution_count": 100,
     "metadata": {},
     "output_type": "execute_result"
    }
   ],
   "source": [
    "arr = [1,9]\n",
    "pair_sum(arr, 9)"
   ]
  }
 ],
 "metadata": {
  "kernelspec": {
   "display_name": "Training",
   "language": "python",
   "name": "training"
  },
  "language_info": {
   "codemirror_mode": {
    "name": "ipython",
    "version": 3
   },
   "file_extension": ".py",
   "mimetype": "text/x-python",
   "name": "python",
   "nbconvert_exporter": "python",
   "pygments_lexer": "ipython3",
   "version": "3.8.1"
  }
 },
 "nbformat": 4,
 "nbformat_minor": 4
}
