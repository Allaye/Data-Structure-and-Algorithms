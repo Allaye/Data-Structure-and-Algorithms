{
 "cells": [
  {
   "cell_type": "code",
   "execution_count": 69,
   "metadata": {},
   "outputs": [],
   "source": [
    "def anagram(word, test):\n",
    "    '''\n",
    "    given two strings, check if they are anagrams, an anagrams is when two\n",
    "    strings can be written using the exact same letters.\n",
    "    \n",
    "    eg. \"running is an anagram of unnring\",\n",
    "        \"donald trump is an anagram of dodnumptrnla\"\n",
    "    so the ideal is to write a script to check if the two words are anagrams\n",
    "    '''\n",
    "    word = word.lower().replace(' ', '')\n",
    "    test = test.lower().replace(' ', '')\n",
    "    #case check\n",
    "    if len(word) != len(test):\n",
    "        return False\n",
    "    for letter in test:\n",
    "        if letter in word:\n",
    "            word = word.replace(letter,'', 1)\n",
    "    if len(word) == 0:\n",
    "        return True\n",
    "    return False\n",
    "\n",
    "    \n",
    "# there are other ways to solving this, like sorting the two string and checking if they are equal"
   ]
  },
  {
   "cell_type": "code",
   "execution_count": null,
   "metadata": {},
   "outputs": [],
   "source": []
  },
  {
   "cell_type": "code",
   "execution_count": null,
   "metadata": {},
   "outputs": [],
   "source": []
  }
 ],
 "metadata": {
  "kernelspec": {
   "display_name": "Training",
   "language": "python",
   "name": "training"
  },
  "language_info": {
   "codemirror_mode": {
    "name": "ipython",
    "version": 3
   },
   "file_extension": ".py",
   "mimetype": "text/x-python",
   "name": "python",
   "nbconvert_exporter": "python",
   "pygments_lexer": "ipython3",
   "version": "3.8.1"
  }
 },
 "nbformat": 4,
 "nbformat_minor": 4
}
