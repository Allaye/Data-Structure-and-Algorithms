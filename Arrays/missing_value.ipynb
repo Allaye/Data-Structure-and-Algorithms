{
 "cells": [
  {
   "cell_type": "code",
   "execution_count": 100,
   "metadata": {},
   "outputs": [],
   "source": [
    "def finder(arr1, arr2):\n",
    "    if len(arr1) != len(arr2)+1:\n",
    "        print('second array must be one less than the first')\n",
    "        return -1\n",
    "    for item in arr1:\n",
    "        if item in arr2:\n",
    "            arr2.remove(item)\n",
    "        else:           \n",
    "            break\n",
    "    return item\n",
    "\n",
    "def finder1(arr1, arr2):\n",
    "    arr1.sort()\n",
    "    arr2.sort()\n",
    "    for a,b in zip(arr1, arr2):\n",
    "        if a != b:\n",
    "            return a\n",
    "    remark = 'no missing value'\n",
    "    return remark"
   ]
  },
  {
   "cell_type": "code",
   "execution_count": null,
   "metadata": {},
   "outputs": [],
   "source": []
  },
  {
   "cell_type": "code",
   "execution_count": null,
   "metadata": {},
   "outputs": [],
   "source": []
  }
 ],
 "metadata": {
  "kernelspec": {
   "display_name": "Training",
   "language": "python",
   "name": "training"
  },
  "language_info": {
   "codemirror_mode": {
    "name": "ipython",
    "version": 3
   },
   "file_extension": ".py",
   "mimetype": "text/x-python",
   "name": "python",
   "nbconvert_exporter": "python",
   "pygments_lexer": "ipython3",
   "version": "3.8.1"
  }
 },
 "nbformat": 4,
 "nbformat_minor": 4
}
