{
 "cells": [
  {
   "cell_type": "markdown",
   "metadata": {},
   "source": [
    "# Dynamic array implementation"
   ]
  },
  {
   "cell_type": "markdown",
   "metadata": {},
   "source": [
    "### The idea is to create an array that grows based on the new element added to it. "
   ]
  },
  {
   "cell_type": "code",
   "execution_count": 25,
   "metadata": {},
   "outputs": [],
   "source": [
    "import ctypes\n",
    "\n",
    "\n",
    "class DynamicArray():\n",
    "    \n",
    "    \n",
    "    def __init__(self):\n",
    "        # instaciate the \n",
    "        self.length = 0\n",
    "        self.capacity = 1\n",
    "        self.array = self.raw_array(self.capacity)\n",
    "        \n",
    "    def __len__(self):\n",
    "        # returning the length of the dynamic array, at first will be zero but will change as the list gets populated\n",
    "        return self.length\n",
    "    \n",
    "    def __getitem(self, index):\n",
    "        \n",
    "        if not 0 <= index < self.length:\n",
    "            return IndexError('Index is out of bound')\n",
    "        return self.array[index]\n",
    "    \n",
    "    def append(self, element):\n",
    "        \n",
    "        if self.length == self.capacity:\n",
    "            self._resize(2*self.capacity)\n",
    "        self.array[self.length] = element\n",
    "        self.length +=1\n",
    "        \n",
    "    def _resize(self, size):\n",
    "        \n",
    "        brray = self.raw_array(size)\n",
    "        for i in range(self.length):\n",
    "            brray[i] = self.array[i]\n",
    "        self.array = brray\n",
    "        self.capacity = size\n",
    "        \n",
    "    def raw_array(self, size):\n",
    "        \n",
    "        return (size * ctypes.py_object)()\n",
    "            \n",
    "    \n",
    "    "
   ]
  }
 ],
 "metadata": {
  "kernelspec": {
   "display_name": "Training",
   "language": "python",
   "name": "training"
  },
  "language_info": {
   "codemirror_mode": {
    "name": "ipython",
    "version": 3
   },
   "file_extension": ".py",
   "mimetype": "text/x-python",
   "name": "python",
   "nbconvert_exporter": "python",
   "pygments_lexer": "ipython3",
   "version": "3.8.1"
  }
 },
 "nbformat": 4,
 "nbformat_minor": 4
}
